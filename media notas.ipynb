{
 "cells": [
  {
   "cell_type": "code",
   "execution_count": 1,
   "metadata": {},
   "outputs": [
    {
     "name": "stdout",
     "output_type": "stream",
     "text": [
      "O produto do dobro do primeiro com metade do segundo é: 48.0\n",
      "A soma do triplo do primeiro com o terceiro é: 23.3\n",
      "O terceiro elevado ao cubo é: 148.87699999999998\n"
     ]
    }
   ],
   "source": [
    "## Faça um Programa que peça 2 números inteiros e um número real. Calcule e mostre:\n",
    "numInt = int(input(\"Digite um número inteiro:\"))\n",
    "numInt2 = int(input(\"Digite outro número inteiro:\"))\n",
    "numFloat = float((input(\"Digite um número real:\")))\n",
    "\n",
    "#O produto do dobro do primeiro com metade do segundo.\n",
    "produto = (numInt * 2) * (numInt2 / 2)\n",
    "print(\"O produto do dobro do primeiro com metade do segundo é:\", produto)\n",
    "\n",
    "#A soma do triplo do primeiro com o terceiro.\n",
    "soma = (numInt * 3) + numFloat\n",
    "print(\"A soma do triplo do primeiro com o terceiro é:\", soma)\n",
    "\n",
    "#o terceiro elevado ao cubo.\n",
    "cubo = numFloat ** 3\n",
    "print(\"O terceiro elevado ao cubo é:\", cubo)"
   ]
  },
  {
   "cell_type": "code",
   "execution_count": 2,
   "metadata": {},
   "outputs": [
    {
     "name": "stdout",
     "output_type": "stream",
     "text": [
      "O maior número é 10.0\n"
     ]
    }
   ],
   "source": [
    "#Faça um Programa que peça dois números e imprima o maior deles.\n",
    "num1 = float(input(\"Digite um número:\"))\n",
    "num2 = float(input(\"Digite outro número:\"))\n",
    "\n",
    "if num1 > num2:\n",
    "    print(\"O maior número é\", num1)\n",
    "else:\n",
    "    print(\"O maior número é\", num2)"
   ]
  },
  {
   "cell_type": "code",
   "execution_count": 3,
   "metadata": {},
   "outputs": [
    {
     "name": "stdout",
     "output_type": "stream",
     "text": [
      "O valor é negativo\n"
     ]
    }
   ],
   "source": [
    "#Faça um Programa que peça um valor e mostre na tela se o valor é positivo ou negativo.\n",
    "valor = float(input(\"Digite um valor\"))\n",
    "\n",
    "if valor > 0:\n",
    "    print(\"O valor é positivo\")\n",
    "else:\n",
    "    print(\"O valor é negativo\")"
   ]
  },
  {
   "cell_type": "code",
   "execution_count": 5,
   "metadata": {},
   "outputs": [
    {
     "name": "stdout",
     "output_type": "stream",
     "text": [
      "Sua média foi 7.0 e você foi aprovado, Muito Bem!\n"
     ]
    }
   ],
   "source": [
    "#Faça um programa para a leitura de duas notas parciais de um aluno\n",
    "#O programa deve calcular a média alcançada por aluno e apresentar o resultado \"Aprovado\" ou \"Reprovado\".\n",
    "#Considere que a escola adota média 7.00.\n",
    "nota1 = float(input(\"Digite sua primeira nota:\"))\n",
    "nota2 = float(input(\"Digite sua segunda nota:\"))\n",
    "\n",
    "mediaNotas = (nota1 + nota2) / 2\n",
    "\n",
    "if mediaNotas >= 7:\n",
    "    print(\"Sua média foi\", mediaNotas, \"e você foi aprovado, Muito Bem!\")\n",
    "else:\n",
    "    print(\"Sua média foi\", mediaNotas, \"e você foi reprovado\")"
   ]
  },
  {
   "cell_type": "code",
   "execution_count": 6,
   "metadata": {},
   "outputs": [
    {
     "name": "stdout",
     "output_type": "stream",
     "text": [
      "O maior número é o número: 8.0\n"
     ]
    }
   ],
   "source": [
    "#Faça um Programa que leia três números e mostre o maior deles.\n",
    "num1 = float(input(\"Digite um número:\"))\n",
    "num2 = float(input(\"Digite outro número:\"))\n",
    "num3 = float((input(\"Digite mais um número:\")))\n",
    "\n",
    "if num1 > num2 and num1 > num3:\n",
    "    print(\"O maior número é o número:\", num1)\n",
    "elif num2 > num1 and num2 > num3:\n",
    "    print(\"O maior número é o número:\", num2)\n",
    "else:\n",
    "    print(\"O maior número é o número:\", num3)"
   ]
  }
 ],
 "metadata": {
  "kernelspec": {
   "display_name": "Python 3",
   "language": "python",
   "name": "python3"
  },
  "language_info": {
   "codemirror_mode": {
    "name": "ipython",
    "version": 3
   },
   "file_extension": ".py",
   "mimetype": "text/x-python",
   "name": "python",
   "nbconvert_exporter": "python",
   "pygments_lexer": "ipython3",
   "version": "3.11.9"
  }
 },
 "nbformat": 4,
 "nbformat_minor": 2
}
